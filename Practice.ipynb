{
  "nbformat": 4,
  "nbformat_minor": 0,
  "metadata": {
    "colab": {
      "provenance": [],
      "authorship_tag": "ABX9TyO/izojkuy1au6s4zNqcVzx",
      "include_colab_link": true
    },
    "kernelspec": {
      "name": "python3",
      "display_name": "Python 3"
    },
    "language_info": {
      "name": "python"
    }
  },
  "cells": [
    {
      "cell_type": "markdown",
      "metadata": {
        "id": "view-in-github",
        "colab_type": "text"
      },
      "source": [
        "<a href=\"https://colab.research.google.com/github/csmsum/dl4img/blob/main/Practice.ipynb\" target=\"_parent\"><img src=\"https://colab.research.google.com/assets/colab-badge.svg\" alt=\"Open In Colab\"/></a>"
      ]
    },
    {
      "cell_type": "code",
      "execution_count": 1,
      "metadata": {
        "id": "GDproNVfxD7W"
      },
      "outputs": [],
      "source": [
        "import numpy as np\n",
        "import tensorflow as tf\n",
        "import matplotlib.pyplot as plt\n",
        "\n",
        "lob_begin_red, log_begin_blue, log_begin_green = '\\033[91m', '\\033[94m', '\\033[92m'\n",
        "log_begin_bold, log_begin_underline = '\\033[1m', '\\033[4m'\n",
        "log_end_format = '\\033p0m'"
      ]
    },
    {
      "cell_type": "markdown",
      "source": [
        "##Neuron"
      ],
      "metadata": {
        "id": "BjucGXJh_kSw"
      }
    },
    {
      "cell_type": "code",
      "source": [
        "class Neuron(object):\n",
        "    def __init__(self, num_input, activation_function):\n",
        "        super().__init__()\n",
        "        self.w = np.random.uniform(size = num_input, low = -1., high = 1.)\n",
        "        self.b = np.random.uniform(size = 1, low = -1., high = 1.)\n",
        "        self.activation_function = activation_function\n",
        "\n",
        "    def forward(self, x):\n",
        "        z = np.dot(x, self.w)+self.b\n",
        "        return self.activation_function(z)"
      ],
      "metadata": {
        "id": "we1vmF-v8blt"
      },
      "execution_count": null,
      "outputs": []
    },
    {
      "cell_type": "markdown",
      "source": [
        "\n",
        "```\n",
        "class Neuron(object)\n",
        "    super().__init__()\n",
        "```\n",
        "위와 같은 경우는, 파이썬 2의 잔재이다. 당시에는 class 내에 아무것도 들어가지 않을 때 object를 호출하고 object의 속성을 그대로 가져오는 super().__init__()을 함께 활성화했어야만 했다. "
      ],
      "metadata": {
        "id": "HPkx-4Pvf074"
      }
    },
    {
      "cell_type": "code",
      "source": [
        "input_size = 3\n",
        "step_function = lambda y: 0 if y<=0 else 1\n",
        "perceptron = Neuron(input_size, step_function)"
      ],
      "metadata": {
        "id": "XgkQwPih8ryo"
      },
      "execution_count": null,
      "outputs": []
    },
    {
      "cell_type": "markdown",
      "source": [],
      "metadata": {
        "id": "O6m-7BzBhw3k"
      }
    },
    {
      "cell_type": "code",
      "source": [],
      "metadata": {
        "id": "67yslyZqiGzy"
      },
      "execution_count": null,
      "outputs": []
    },
    {
      "cell_type": "code",
      "source": [
        "print(\"Input vector : {}\".format(x))\n"
      ],
      "metadata": {
        "colab": {
          "base_uri": "https://localhost:8080/",
          "height": 170
        },
        "id": "wQ7WUNDu_UBw",
        "outputId": "b25e6d35-a54f-4cbd-815a-9039613243a7"
      },
      "execution_count": null,
      "outputs": [
        {
          "output_type": "error",
          "ename": "NameError",
          "evalue": "ignored",
          "traceback": [
            "\u001b[0;31m---------------------------------------------------------------------------\u001b[0m",
            "\u001b[0;31mNameError\u001b[0m                                 Traceback (most recent call last)",
            "\u001b[0;32m<ipython-input-12-e3d7e571bd26>\u001b[0m in \u001b[0;36m<module>\u001b[0;34m\u001b[0m\n\u001b[0;32m----> 1\u001b[0;31m \u001b[0mprint\u001b[0m\u001b[0;34m(\u001b[0m\u001b[0;34m\"Input vector : {}\"\u001b[0m\u001b[0;34m.\u001b[0m\u001b[0mformat\u001b[0m\u001b[0;34m(\u001b[0m\u001b[0mx\u001b[0m\u001b[0;34m)\u001b[0m\u001b[0;34m)\u001b[0m\u001b[0;34m\u001b[0m\u001b[0;34m\u001b[0m\u001b[0m\n\u001b[0m",
            "\u001b[0;31mNameError\u001b[0m: name 'x' is not defined"
          ]
        }
      ]
    },
    {
      "cell_type": "code",
      "source": [],
      "metadata": {
        "id": "sGFCzySL_1jw"
      },
      "execution_count": null,
      "outputs": []
    }
  ]
}