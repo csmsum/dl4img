{
  "nbformat": 4,
  "nbformat_minor": 0,
  "metadata": {
    "colab": {
      "provenance": [],
      "mount_file_id": "1eoDl5yXYCWQb2dlhBhwMrkpv7A8ihtLn",
      "authorship_tag": "ABX9TyN7m2OnyEfxdXhZUNiCR7OC",
      "include_colab_link": true
    },
    "kernelspec": {
      "name": "python3",
      "display_name": "Python 3"
    },
    "language_info": {
      "name": "python"
    }
  },
  "cells": [
    {
      "cell_type": "markdown",
      "metadata": {
        "id": "view-in-github",
        "colab_type": "text"
      },
      "source": [
        "<a href=\"https://colab.research.google.com/github/csmsum/dl4img/blob/main/dl4cloud.ipynb\" target=\"_parent\"><img src=\"https://colab.research.google.com/assets/colab-badge.svg\" alt=\"Open In Colab\"/></a>"
      ]
    },
    {
      "cell_type": "code",
      "source": [
        "from google.colab import drive\n",
        "drive.mount('/content/gdrive')"
      ],
      "metadata": {
        "colab": {
          "base_uri": "https://localhost:8080/"
        },
        "id": "B2Rm4BcuMM5x",
        "outputId": "8293be55-b2f7-4319-c334-88309ca565bc"
      },
      "execution_count": 7,
      "outputs": [
        {
          "output_type": "stream",
          "name": "stdout",
          "text": [
            "Mounted at /content/gdrive\n"
          ]
        }
      ]
    },
    {
      "cell_type": "code",
      "execution_count": 71,
      "metadata": {
        "id": "z1byOgnJUba6"
      },
      "outputs": [],
      "source": [
        "import numpy as np \n",
        "import pandas as pd\n",
        "import os\n",
        "import cv2\n",
        "import matplotlib.pyplot as plt\n",
        "from matplotlib import patches as patches\n",
        "import seaborn as sns"
      ]
    },
    {
      "cell_type": "code",
      "source": [
        "train_label = pd.read_csv(\"/content/gdrive/MyDrive/dl4img/understanding_cloud_organization/train.csv\")\n",
        "train_label['img'] = pd.DataFrame(map(tuple, train_label[\"Image_Label\"].str.split(\"_\"))).iloc[:,0]\n",
        "train_label['cat'] = pd.DataFrame(map(tuple, train_label[\"Image_Label\"].str.split(\"_\"))).iloc[:,1]\n",
        "train_label.drop(columns = ['Image_Label'], inplace = True)\n",
        "train_label['Label_EncodedPixels'] = train_label.apply(lambda row: (row['cat'], row['EncodedPixels']), axis = 1)\n",
        "train_label.set_index(['img', 'cat'], inplace = True)\n",
        "train_label.head(10)"
      ],
      "metadata": {
        "colab": {
          "base_uri": "https://localhost:8080/",
          "height": 394
        },
        "id": "llBE9S75Hh8F",
        "outputId": "72ec2dae-f876-4c23-a019-190765e08ec6"
      },
      "execution_count": 78,
      "outputs": [
        {
          "output_type": "execute_result",
          "data": {
            "text/plain": [
              "                                                        EncodedPixels  \\\n",
              "img         cat                                                         \n",
              "0011165.jpg Fish    264918 937 266318 937 267718 937 269118 937 27...   \n",
              "            Flower  1355565 1002 1356965 1002 1358365 1002 1359765...   \n",
              "            Gravel                                                NaN   \n",
              "            Sugar                                                 NaN   \n",
              "002be4f.jpg Fish    233813 878 235213 878 236613 878 238010 881 23...   \n",
              "            Flower  1339279 519 1340679 519 1342079 519 1343479 51...   \n",
              "            Gravel                                                NaN   \n",
              "            Sugar   67495 350 68895 350 70295 350 71695 350 73095 ...   \n",
              "0031ae9.jpg Fish    3510 690 4910 690 6310 690 7710 690 9110 690 1...   \n",
              "            Flower  2047 703 3447 703 4847 703 6247 703 7647 703 9...   \n",
              "\n",
              "                                                  Label_EncodedPixels  \n",
              "img         cat                                                        \n",
              "0011165.jpg Fish    (Fish, 264918 937 266318 937 267718 937 269118...  \n",
              "            Flower  (Flower, 1355565 1002 1356965 1002 1358365 100...  \n",
              "            Gravel                                      (Gravel, nan)  \n",
              "            Sugar                                        (Sugar, nan)  \n",
              "002be4f.jpg Fish    (Fish, 233813 878 235213 878 236613 878 238010...  \n",
              "            Flower  (Flower, 1339279 519 1340679 519 1342079 519 1...  \n",
              "            Gravel                                      (Gravel, nan)  \n",
              "            Sugar   (Sugar, 67495 350 68895 350 70295 350 71695 35...  \n",
              "0031ae9.jpg Fish    (Fish, 3510 690 4910 690 6310 690 7710 690 911...  \n",
              "            Flower  (Flower, 2047 703 3447 703 4847 703 6247 703 7...  "
            ],
            "text/html": [
              "\n",
              "  <div id=\"df-848649d5-ab60-4db4-b50a-dd63dc395a59\">\n",
              "    <div class=\"colab-df-container\">\n",
              "      <div>\n",
              "<style scoped>\n",
              "    .dataframe tbody tr th:only-of-type {\n",
              "        vertical-align: middle;\n",
              "    }\n",
              "\n",
              "    .dataframe tbody tr th {\n",
              "        vertical-align: top;\n",
              "    }\n",
              "\n",
              "    .dataframe thead th {\n",
              "        text-align: right;\n",
              "    }\n",
              "</style>\n",
              "<table border=\"1\" class=\"dataframe\">\n",
              "  <thead>\n",
              "    <tr style=\"text-align: right;\">\n",
              "      <th></th>\n",
              "      <th></th>\n",
              "      <th>EncodedPixels</th>\n",
              "      <th>Label_EncodedPixels</th>\n",
              "    </tr>\n",
              "    <tr>\n",
              "      <th>img</th>\n",
              "      <th>cat</th>\n",
              "      <th></th>\n",
              "      <th></th>\n",
              "    </tr>\n",
              "  </thead>\n",
              "  <tbody>\n",
              "    <tr>\n",
              "      <th rowspan=\"4\" valign=\"top\">0011165.jpg</th>\n",
              "      <th>Fish</th>\n",
              "      <td>264918 937 266318 937 267718 937 269118 937 27...</td>\n",
              "      <td>(Fish, 264918 937 266318 937 267718 937 269118...</td>\n",
              "    </tr>\n",
              "    <tr>\n",
              "      <th>Flower</th>\n",
              "      <td>1355565 1002 1356965 1002 1358365 1002 1359765...</td>\n",
              "      <td>(Flower, 1355565 1002 1356965 1002 1358365 100...</td>\n",
              "    </tr>\n",
              "    <tr>\n",
              "      <th>Gravel</th>\n",
              "      <td>NaN</td>\n",
              "      <td>(Gravel, nan)</td>\n",
              "    </tr>\n",
              "    <tr>\n",
              "      <th>Sugar</th>\n",
              "      <td>NaN</td>\n",
              "      <td>(Sugar, nan)</td>\n",
              "    </tr>\n",
              "    <tr>\n",
              "      <th rowspan=\"4\" valign=\"top\">002be4f.jpg</th>\n",
              "      <th>Fish</th>\n",
              "      <td>233813 878 235213 878 236613 878 238010 881 23...</td>\n",
              "      <td>(Fish, 233813 878 235213 878 236613 878 238010...</td>\n",
              "    </tr>\n",
              "    <tr>\n",
              "      <th>Flower</th>\n",
              "      <td>1339279 519 1340679 519 1342079 519 1343479 51...</td>\n",
              "      <td>(Flower, 1339279 519 1340679 519 1342079 519 1...</td>\n",
              "    </tr>\n",
              "    <tr>\n",
              "      <th>Gravel</th>\n",
              "      <td>NaN</td>\n",
              "      <td>(Gravel, nan)</td>\n",
              "    </tr>\n",
              "    <tr>\n",
              "      <th>Sugar</th>\n",
              "      <td>67495 350 68895 350 70295 350 71695 350 73095 ...</td>\n",
              "      <td>(Sugar, 67495 350 68895 350 70295 350 71695 35...</td>\n",
              "    </tr>\n",
              "    <tr>\n",
              "      <th rowspan=\"2\" valign=\"top\">0031ae9.jpg</th>\n",
              "      <th>Fish</th>\n",
              "      <td>3510 690 4910 690 6310 690 7710 690 9110 690 1...</td>\n",
              "      <td>(Fish, 3510 690 4910 690 6310 690 7710 690 911...</td>\n",
              "    </tr>\n",
              "    <tr>\n",
              "      <th>Flower</th>\n",
              "      <td>2047 703 3447 703 4847 703 6247 703 7647 703 9...</td>\n",
              "      <td>(Flower, 2047 703 3447 703 4847 703 6247 703 7...</td>\n",
              "    </tr>\n",
              "  </tbody>\n",
              "</table>\n",
              "</div>\n",
              "      <button class=\"colab-df-convert\" onclick=\"convertToInteractive('df-848649d5-ab60-4db4-b50a-dd63dc395a59')\"\n",
              "              title=\"Convert this dataframe to an interactive table.\"\n",
              "              style=\"display:none;\">\n",
              "        \n",
              "  <svg xmlns=\"http://www.w3.org/2000/svg\" height=\"24px\"viewBox=\"0 0 24 24\"\n",
              "       width=\"24px\">\n",
              "    <path d=\"M0 0h24v24H0V0z\" fill=\"none\"/>\n",
              "    <path d=\"M18.56 5.44l.94 2.06.94-2.06 2.06-.94-2.06-.94-.94-2.06-.94 2.06-2.06.94zm-11 1L8.5 8.5l.94-2.06 2.06-.94-2.06-.94L8.5 2.5l-.94 2.06-2.06.94zm10 10l.94 2.06.94-2.06 2.06-.94-2.06-.94-.94-2.06-.94 2.06-2.06.94z\"/><path d=\"M17.41 7.96l-1.37-1.37c-.4-.4-.92-.59-1.43-.59-.52 0-1.04.2-1.43.59L10.3 9.45l-7.72 7.72c-.78.78-.78 2.05 0 2.83L4 21.41c.39.39.9.59 1.41.59.51 0 1.02-.2 1.41-.59l7.78-7.78 2.81-2.81c.8-.78.8-2.07 0-2.86zM5.41 20L4 18.59l7.72-7.72 1.47 1.35L5.41 20z\"/>\n",
              "  </svg>\n",
              "      </button>\n",
              "      \n",
              "  <style>\n",
              "    .colab-df-container {\n",
              "      display:flex;\n",
              "      flex-wrap:wrap;\n",
              "      gap: 12px;\n",
              "    }\n",
              "\n",
              "    .colab-df-convert {\n",
              "      background-color: #E8F0FE;\n",
              "      border: none;\n",
              "      border-radius: 50%;\n",
              "      cursor: pointer;\n",
              "      display: none;\n",
              "      fill: #1967D2;\n",
              "      height: 32px;\n",
              "      padding: 0 0 0 0;\n",
              "      width: 32px;\n",
              "    }\n",
              "\n",
              "    .colab-df-convert:hover {\n",
              "      background-color: #E2EBFA;\n",
              "      box-shadow: 0px 1px 2px rgba(60, 64, 67, 0.3), 0px 1px 3px 1px rgba(60, 64, 67, 0.15);\n",
              "      fill: #174EA6;\n",
              "    }\n",
              "\n",
              "    [theme=dark] .colab-df-convert {\n",
              "      background-color: #3B4455;\n",
              "      fill: #D2E3FC;\n",
              "    }\n",
              "\n",
              "    [theme=dark] .colab-df-convert:hover {\n",
              "      background-color: #434B5C;\n",
              "      box-shadow: 0px 1px 3px 1px rgba(0, 0, 0, 0.15);\n",
              "      filter: drop-shadow(0px 1px 2px rgba(0, 0, 0, 0.3));\n",
              "      fill: #FFFFFF;\n",
              "    }\n",
              "  </style>\n",
              "\n",
              "      <script>\n",
              "        const buttonEl =\n",
              "          document.querySelector('#df-848649d5-ab60-4db4-b50a-dd63dc395a59 button.colab-df-convert');\n",
              "        buttonEl.style.display =\n",
              "          google.colab.kernel.accessAllowed ? 'block' : 'none';\n",
              "\n",
              "        async function convertToInteractive(key) {\n",
              "          const element = document.querySelector('#df-848649d5-ab60-4db4-b50a-dd63dc395a59');\n",
              "          const dataTable =\n",
              "            await google.colab.kernel.invokeFunction('convertToInteractive',\n",
              "                                                     [key], {});\n",
              "          if (!dataTable) return;\n",
              "\n",
              "          const docLinkHtml = 'Like what you see? Visit the ' +\n",
              "            '<a target=\"_blank\" href=https://colab.research.google.com/notebooks/data_table.ipynb>data table notebook</a>'\n",
              "            + ' to learn more about interactive tables.';\n",
              "          element.innerHTML = '';\n",
              "          dataTable['output_type'] = 'display_data';\n",
              "          await google.colab.output.renderOutput(dataTable, element);\n",
              "          const docLink = document.createElement('div');\n",
              "          docLink.innerHTML = docLinkHtml;\n",
              "          element.appendChild(docLink);\n",
              "        }\n",
              "      </script>\n",
              "    </div>\n",
              "  </div>\n",
              "  "
            ]
          },
          "metadata": {},
          "execution_count": 78
        }
      ]
    },
    {
      "cell_type": "code",
      "source": [
        "def DecodePxel(x):\n",
        "    x\n"
      ],
      "metadata": {
        "colab": {
          "base_uri": "https://localhost:8080/",
          "height": 134
        },
        "id": "D4LpRMS_PbnU",
        "outputId": "21dede3c-514d-46dd-b176-48c3689e9d60"
      },
      "execution_count": 76,
      "outputs": [
        {
          "output_type": "error",
          "ename": "SyntaxError",
          "evalue": "ignored",
          "traceback": [
            "\u001b[0;36m  File \u001b[0;32m\"<ipython-input-76-8c7068b395ca>\"\u001b[0;36m, line \u001b[0;32m1\u001b[0m\n\u001b[0;31m    def DecodePxel:\u001b[0m\n\u001b[0m                  ^\u001b[0m\n\u001b[0;31mSyntaxError\u001b[0m\u001b[0;31m:\u001b[0m invalid syntax\n"
          ]
        }
      ]
    },
    {
      "cell_type": "code",
      "source": [
        "img_series.unique()"
      ],
      "metadata": {
        "colab": {
          "base_uri": "https://localhost:8080/"
        },
        "id": "-GUyYa6kPtBP",
        "outputId": "4e565ca7-84b3-42db-ed94-28c11d9d16cb"
      },
      "execution_count": 74,
      "outputs": [
        {
          "output_type": "execute_result",
          "data": {
            "text/plain": [
              "array(['0011165.jpg', '002be4f.jpg', '0031ae9.jpg', ..., 'ffd3dfb.jpg',\n",
              "       'ffd6680.jpg', 'ffea4f4.jpg'], dtype=object)"
            ]
          },
          "metadata": {},
          "execution_count": 74
        }
      ]
    },
    {
      "cell_type": "code",
      "source": [],
      "metadata": {
        "id": "ge3tiX4BTIli"
      },
      "execution_count": null,
      "outputs": []
    }
  ]
}